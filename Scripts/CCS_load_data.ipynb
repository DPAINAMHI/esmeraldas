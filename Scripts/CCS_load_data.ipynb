{
 "cells": [
  {
   "cell_type": "code",
   "execution_count": 206,
   "metadata": {},
   "outputs": [],
   "source": [
    "import funct\n",
    "import importlib\n",
    "funct = importlib.reload(funct)\n",
    "import numpy as np\n",
    "import pandas as pd\n",
    "import os\n",
    "import netCDF4 as nc\n",
    "import IPython"
   ]
  },
  {
   "cell_type": "markdown",
   "metadata": {},
   "source": [
    "Read historical CCS data"
   ]
  },
  {
   "cell_type": "code",
   "execution_count": 207,
   "metadata": {},
   "outputs": [],
   "source": [
    "freq = 3\n",
    "\n",
    "# Get the current working directory\n",
    "current_dir = \"/\".join(\n",
    "        IPython.extract_module_locals()[1][\"__vsc_ipynb_file__\"].split(\"/\")[-5:]\n",
    "    )\n",
    "# Get the parent directory path\n",
    "parent_dir = os.path.dirname(os.path.dirname(current_dir))\n",
    "# Change the directory (optional)\n",
    "os.chdir(parent_dir)\n",
    "# Now, your current working directory is the parent folder.\n",
    "\n",
    "rela_path_base = \"Data\\Persian_CCS_201901_202403\\CCS_esmJSON_2024-03-08075032am_\"\n",
    "df_list = []\n",
    "for month in funct.iterate_months(2019, 1, 2024, 3):\n",
    "    rela_path = rela_path_base + month + \".nc\"\n",
    "    file_path = os.path.join(parent_dir,rela_path)\n",
    "    df = funct.create_time_series_dataframe(freq, rela_path)\n",
    "    df_list.append(df)\n",
    "df_ccs = pd.concat(df_list)\n",
    "# orginal shape of the Esmeraldas basin is of size 53*52\n",
    "# New flat array of 2756 pixels. Matches the original dimensions\n",
    "df_ccs = df_ccs.replace(-99,np.nan)"
   ]
  },
  {
   "cell_type": "markdown",
   "metadata": {},
   "source": [
    "Read and organize data from Esmeraldas station"
   ]
  },
  {
   "cell_type": "code",
   "execution_count": 171,
   "metadata": {},
   "outputs": [],
   "source": [
    "# Get the current working directory\n",
    "current_dir = \"/\".join(\n",
    "        IPython.extract_module_locals()[1][\"__vsc_ipynb_file__\"].split(\"/\")[-5:]\n",
    "    )\n",
    "# Get the parent directory path\n",
    "parent_dir = os.path.dirname(os.path.dirname(current_dir))\n",
    "# Change the directory (optional)\n",
    "os.chdir(parent_dir)\n",
    "# Now, your current working directory is the parent folder.\n",
    "\n",
    "from datetime import date, timedelta\n",
    "from funct import format_number_with_zeros\n",
    "import chardet\n",
    "import re\n",
    "\n",
    "\n",
    "# Define start and end dates (replace with your desired dates)\n",
    "start_date = date(2023, 9, 6)  # Adjust year, month, day as needed\n",
    "end_date = date(2024, 3, 8)  # Adjust year, month, day as needed\n",
    "\n",
    "# Iterate through each day using a for loop and timedelta\n",
    "\n",
    "df_list_esm = []\n",
    "\n",
    "for day in range((end_date - start_date).days + 1):\n",
    "    current_date = start_date + timedelta(days=day)\n",
    "    # Do something with the current_date here (e.g., print, process data)\n",
    "    year = current_date.year\n",
    "    month = format_number_with_zeros(current_date.month,2)\n",
    "    day = format_number_with_zeros(current_date.day,2)\n",
    "    csv_path = \"Data\\Esm_Station\\yd\" + str(year) + \"\\md\" + str(year) + str(month) + \"\\\\\" + str(year) + str(month) + str(day) + \"_dvd.csv\"\n",
    "    with open(csv_path, 'rb') as f:\n",
    "        result = chardet.detect(f.read())\n",
    "        encoding = result['encoding']\n",
    "    df = pd.read_csv(csv_path, encoding= encoding, header = None ,skiprows=2)\n",
    "    df = df[0].apply(lambda x: pd.Series(re.split(r';+', x)))\n",
    "    df = df.T\n",
    "    df.columns = df.iloc[0]\n",
    "    df = df.iloc[1:]\n",
    "    df = df.set_index('N Sens', drop = True)\n",
    "    df_list_esm.append(df)\n",
    "\n",
    "df_list_esm"
   ]
  },
  {
   "cell_type": "markdown",
   "metadata": {},
   "source": [
    "# Drafts Below"
   ]
  },
  {
   "cell_type": "code",
   "execution_count": 55,
   "metadata": {},
   "outputs": [],
   "source": []
  }
 ],
 "metadata": {
  "kernelspec": {
   "display_name": "Python 3",
   "language": "python",
   "name": "python3"
  },
  "language_info": {
   "codemirror_mode": {
    "name": "ipython",
    "version": 3
   },
   "file_extension": ".py",
   "mimetype": "text/x-python",
   "name": "python",
   "nbconvert_exporter": "python",
   "pygments_lexer": "ipython3",
   "version": "3.10.13"
  }
 },
 "nbformat": 4,
 "nbformat_minor": 2
}
